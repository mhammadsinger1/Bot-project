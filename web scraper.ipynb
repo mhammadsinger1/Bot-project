{
 "cells": [
  {
   "cell_type": "code",
   "execution_count": 1,
   "id": "4fc2c773-d78f-4fba-872e-d382093cead7",
   "metadata": {},
   "outputs": [],
   "source": [
    "from bs4 import BeautifulSoup\n",
    "import requests,re\n",
    "\n",
    "from bs4 import BeautifulSoup\n",
    "# class=\"badge badge-success\"...tag is div\n",
    "#above is the class of rooms when its text is: 'Reserved'\n",
    "#today it is: class=\"item-badge-right\""
   ]
  },
  {
   "cell_type": "code",
   "execution_count": 2,
   "id": "d726be28-8a91-4bad-b3da-6f740f62036e",
   "metadata": {},
   "outputs": [],
   "source": [
    "page = requests.get('https://www.kamerbemiddelingtilburg.nl/studentenkamers/')\n",
    "#page = requests.get(\"https://www.facebook.com/marketplace/115106888501966/search?query=refrigerator\")\n",
    "\n",
    "soup = BeautifulSoup(page.content, 'html.parser')"
   ]
  },
  {
   "cell_type": "code",
   "execution_count": 3,
   "id": "f465909f-490e-4a42-aee2-d64925dabd58",
   "metadata": {},
   "outputs": [],
   "source": [
    "#why is this\n",
    "a=soup.find_all('a')\n",
    "for i in a:\n",
    "    i.get_text()"
   ]
  },
  {
   "cell_type": "code",
   "execution_count": 4,
   "id": "c19ff687-bfb7-4663-80fb-989f9c14b49c",
   "metadata": {},
   "outputs": [
    {
     "name": "stdout",
     "output_type": "stream",
     "text": [
      "€ 95,-\n",
      "€ 345,-\n",
      "€ 355,-\n",
      "€ 410,-\n"
     ]
    }
   ],
   "source": [
    "#how fix the price\n",
    "pricelist=[]\n",
    "a=soup.find_all('div',class_=\"item-price\")\n",
    "for para in a:\n",
    "    print(para.get_text())\n",
    "    pricelist.append(para.get_text())"
   ]
  },
  {
   "cell_type": "code",
   "execution_count": null,
   "id": "082936dd-9935-4438-8f43-3394465790f9",
   "metadata": {},
   "outputs": [],
   "source": [
    "\n"
   ]
  },
  {
   "cell_type": "code",
   "execution_count": null,
   "id": "cb96e430-dc7a-4d44-a2d6-96063bc3d47a",
   "metadata": {},
   "outputs": [],
   "source": []
  },
  {
   "cell_type": "code",
   "execution_count": 5,
   "id": "ef1932a9-951a-4c10-ac4a-d67cb27146af",
   "metadata": {},
   "outputs": [],
   "source": [
    "#options=soup.find_all('div',class_=\"row\")\n",
    "#options"
   ]
  },
  {
   "cell_type": "code",
   "execution_count": 6,
   "id": "71088f03-5eeb-4e2d-8b24-389627d27c0e",
   "metadata": {},
   "outputs": [
    {
     "name": "stdout",
     "output_type": "stream",
     "text": [
      "https://www.facebook.com/Kamerbemiddeling.Tilburg/\n",
      "https://twitter.com/kbtilburg/\n",
      "https://www.instagram.com/kamerbemiddelingtilburg/\n",
      "https://www.inspira.be\n"
     ]
    }
   ],
   "source": [
    "for link in soup.find_all('a',attrs={'href': re.compile(\"https://\")}):\n",
    "     print(link.get('href'))"
   ]
  },
  {
   "cell_type": "code",
   "execution_count": null,
   "id": "2020cee9-dd79-48c8-99b6-88b2bc3e7fe8",
   "metadata": {},
   "outputs": [],
   "source": []
  },
  {
   "cell_type": "code",
   "execution_count": 7,
   "id": "29ae0292-9442-42a6-9289-2599afb86cb8",
   "metadata": {},
   "outputs": [],
   "source": [
    "#this to start using xpath\n",
    "from lxml import html\n",
    "import requests\n",
    "html_element = html.fromstring(page.text)\n"
   ]
  },
  {
   "cell_type": "code",
   "execution_count": 8,
   "id": "b8c1dabf-b967-466a-ae47-479054cbd8f6",
   "metadata": {},
   "outputs": [
    {
     "name": "stdout",
     "output_type": "stream",
     "text": [
      "/\n",
      "/\n",
      "/studentenkamers/\n",
      "/studentenkamers/gemeubileerde-kamers/\n",
      "/studentenkamers/ongemeubileerde-kamers/\n",
      "/studentenkamers/garageboxen/\n",
      "/informatie/\n",
      "/verhuurder/\n",
      "/contact/\n",
      "#\n",
      "/login/\n",
      "/login/registreren/\n",
      "/en/student-rooms/\n",
      "/\n",
      "/studentenkamers/\n",
      "/\n",
      "#p_budget\n",
      "#p_type\n",
      "#p_location\n",
      "#p_duration\n",
      "#p_available\n",
      "#\n",
      "#\n",
      "/studentenkamers/valk/2227/\n",
      "/studentenkamers/valk/2227/\n",
      "/studentenkamers/dja-daniel-jos-jittastraat/1280/\n",
      "/studentenkamers/dja-daniel-jos-jittastraat/1280/\n",
      "/studentenkamers/eea-europalaan/1286/\n",
      "/studentenkamers/eea-europalaan/1286/\n",
      "/studentenkamers/jar2-jan-van-riebeeckstraat/2432/\n",
      "/studentenkamers/jar2-jan-van-riebeeckstraat/2432/\n",
      "#\n",
      "https://www.facebook.com/Kamerbemiddeling.Tilburg/\n",
      "https://twitter.com/kbtilburg/\n",
      "https://www.instagram.com/kamerbemiddelingtilburg/\n",
      "/studentenkamers/\n",
      "/studentenkamers/gemeubileerde-kamers/\n",
      "/studentenkamers/ongemeubileerde-kamers/\n",
      "/studentenkamers/garageboxen/\n",
      "/informatie/\n",
      "/informatie/informatie/\n",
      "/informatie/reglement-2022/\n",
      "/informatie/kamers/\n",
      "/informatie/tarieven/\n",
      "/informatie/onderhoudszaken/\n",
      "/informatie/online-boeken/\n",
      "/contact/\n",
      "/contact/contact/\n",
      "/contact/openingstijden/\n",
      "/contact/financiele-info/\n",
      "/privacybeleid/\n",
      "/sitemap/\n",
      "https://www.inspira.be\n"
     ]
    }
   ],
   "source": [
    "for a in soup.find_all('a', href=True):\n",
    "    print(a['href'])"
   ]
  },
  {
   "cell_type": "code",
   "execution_count": 9,
   "id": "07df417d-7198-4444-89c8-567389e8a1b8",
   "metadata": {},
   "outputs": [
    {
     "data": {
      "text/plain": [
       "['/slir/q95-w330-c3:2/files/kamer/valk-2227-001.jpg',\n",
       " '/slir/q95-w330-c3:2/files/kamer/dja-daniel-jos-jittastraat-1280-002.jpg',\n",
       " '/slir/q95-w330-c3:2/files/kamer/eea-europalaan-1286-001.jpg',\n",
       " '/slir/q95-w330-c3:2/files/kamer/jar2-jan-van-riebeeckstraat-2432-001.jpg']"
      ]
     },
     "execution_count": 9,
     "metadata": {},
     "output_type": "execute_result"
    }
   ],
   "source": [
    "#how select xpath while removing this divs\n",
    "imagepath= html_element.xpath('/html/body/div/div/div/div[3]//img/@src')\n",
    "imagepath"
   ]
  },
  {
   "cell_type": "code",
   "execution_count": null,
   "id": "b6bc9794-1d88-4101-91fd-7f47c5676cce",
   "metadata": {},
   "outputs": [],
   "source": []
  },
  {
   "cell_type": "code",
   "execution_count": 10,
   "id": "39d7b1a1-d9b4-4e50-9391-ef6f9cbed732",
   "metadata": {},
   "outputs": [
    {
     "data": {
      "text/plain": [
       "[<Element div at 0x7fe09520eef0>,\n",
       " <Element div at 0x7fe09520ef40>,\n",
       " <Element div at 0x7fe0900cdbd0>,\n",
       " <Element div at 0x7fe0793ce130>]"
      ]
     },
     "execution_count": 10,
     "metadata": {},
     "output_type": "execute_result"
    }
   ],
   "source": [
    "#what is this.....x path of images\n",
    "street= html_element.xpath('//*[@id=\"main\"]/div/div/div[3]/div[3]/div/div/div[1]/div')\n",
    "street"
   ]
  },
  {
   "cell_type": "code",
   "execution_count": null,
   "id": "c28369d1-fe84-4c1f-be38-ffdf6f39281a",
   "metadata": {},
   "outputs": [],
   "source": []
  },
  {
   "cell_type": "code",
   "execution_count": 11,
   "id": "80e5074a-8377-4c73-87b9-9064c54d7f02",
   "metadata": {},
   "outputs": [],
   "source": [
    "for a in soup.find_all('img', src=True):\n",
    "    pass#print(a['src'])"
   ]
  },
  {
   "cell_type": "code",
   "execution_count": 12,
   "id": "7cbfa6cf-4f2b-4c22-9545-6b347e3abcf6",
   "metadata": {},
   "outputs": [
    {
     "name": "stdout",
     "output_type": "stream",
     "text": [
      "https://www.kamerbemiddelingtilburg.nl//studentenkamers/valk/2227/\n",
      "https://www.kamerbemiddelingtilburg.nl//studentenkamers/dja-daniel-jos-jittastraat/1280/\n",
      "https://www.kamerbemiddelingtilburg.nl//studentenkamers/eea-europalaan/1286/\n",
      "https://www.kamerbemiddelingtilburg.nl//studentenkamers/jar2-jan-van-riebeeckstraat/2432/\n"
     ]
    }
   ],
   "source": [
    "linkslist=[]\n",
    "for a in soup.find_all('img', src=True):\n",
    "    \n",
    "    if len(a.parent.find_all(recursive=False))>1:\n",
    "       print('https://www.kamerbemiddelingtilburg.nl/'+a.parent['href'])\n",
    "       linkslist.append('https://www.kamerbemiddelingtilburg.nl/'+a.parent['href'])\n",
    "       \n"
   ]
  },
  {
   "cell_type": "code",
   "execution_count": 13,
   "id": "19d9ba29-faa1-4abe-96fd-eac08be100b6",
   "metadata": {},
   "outputs": [
    {
     "name": "stdout",
     "output_type": "stream",
     "text": [
      "VALK 2227\n",
      "DJA / Daniel Jos Jittastraat 1280\n",
      "EEA / Europalaan 1286\n",
      "JAR2 / Jan van Riebeeckstraat 2432\n"
     ]
    }
   ],
   "source": [
    "streetlist=[]\n",
    "for a in soup.find_all('h3'):\n",
    "    print(a.text)\n",
    "    streetlist.append(a.text)"
   ]
  },
  {
   "cell_type": "code",
   "execution_count": 14,
   "id": "1644228d-4c40-45f6-9e1a-0244edafc452",
   "metadata": {},
   "outputs": [
    {
     "data": {
      "text/plain": [
       "[['VALK 2227',\n",
       "  '€ 95,-',\n",
       "  'https://www.kamerbemiddelingtilburg.nl//studentenkamers/valk/2227/'],\n",
       " ['DJA / Daniel Jos Jittastraat 1280',\n",
       "  '€ 345,-',\n",
       "  'https://www.kamerbemiddelingtilburg.nl//studentenkamers/dja-daniel-jos-jittastraat/1280/'],\n",
       " ['EEA / Europalaan 1286',\n",
       "  '€ 355,-',\n",
       "  'https://www.kamerbemiddelingtilburg.nl//studentenkamers/eea-europalaan/1286/'],\n",
       " ['JAR2 / Jan van Riebeeckstraat 2432',\n",
       "  '€ 410,-',\n",
       "  'https://www.kamerbemiddelingtilburg.nl//studentenkamers/jar2-jan-van-riebeeckstraat/2432/']]"
      ]
     },
     "execution_count": 14,
     "metadata": {},
     "output_type": "execute_result"
    }
   ],
   "source": [
    "firstlist=[]\n",
    "for a, b, c in zip(streetlist, pricelist, linkslist):\n",
    "    firstlist.append([a,b,c])\n",
    "firstlist                    "
   ]
  },
  {
   "cell_type": "code",
   "execution_count": null,
   "id": "ff62a242-df6e-4b04-86e5-94130d599251",
   "metadata": {},
   "outputs": [],
   "source": []
  },
  {
   "cell_type": "code",
   "execution_count": 15,
   "id": "8cfea3b2-7ee0-4940-9b71-ffe5314a2ad1",
   "metadata": {},
   "outputs": [
    {
     "data": {
      "text/html": [
       "<div>\n",
       "<style scoped>\n",
       "    .dataframe tbody tr th:only-of-type {\n",
       "        vertical-align: middle;\n",
       "    }\n",
       "\n",
       "    .dataframe tbody tr th {\n",
       "        vertical-align: top;\n",
       "    }\n",
       "\n",
       "    .dataframe thead th {\n",
       "        text-align: right;\n",
       "    }\n",
       "</style>\n",
       "<table border=\"1\" class=\"dataframe\">\n",
       "  <thead>\n",
       "    <tr style=\"text-align: right;\">\n",
       "      <th></th>\n",
       "      <th>STREETNAMES</th>\n",
       "      <th>PRICES</th>\n",
       "      <th>links</th>\n",
       "    </tr>\n",
       "  </thead>\n",
       "  <tbody>\n",
       "    <tr>\n",
       "      <th>0</th>\n",
       "      <td>VALK 2227</td>\n",
       "      <td>€ 95,-</td>\n",
       "      <td>https://www.kamerbemiddelingtilburg.nl//studen...</td>\n",
       "    </tr>\n",
       "    <tr>\n",
       "      <th>1</th>\n",
       "      <td>DJA / Daniel Jos Jittastraat 1280</td>\n",
       "      <td>€ 345,-</td>\n",
       "      <td>https://www.kamerbemiddelingtilburg.nl//studen...</td>\n",
       "    </tr>\n",
       "    <tr>\n",
       "      <th>2</th>\n",
       "      <td>EEA / Europalaan 1286</td>\n",
       "      <td>€ 355,-</td>\n",
       "      <td>https://www.kamerbemiddelingtilburg.nl//studen...</td>\n",
       "    </tr>\n",
       "    <tr>\n",
       "      <th>3</th>\n",
       "      <td>JAR2 / Jan van Riebeeckstraat 2432</td>\n",
       "      <td>€ 410,-</td>\n",
       "      <td>https://www.kamerbemiddelingtilburg.nl//studen...</td>\n",
       "    </tr>\n",
       "  </tbody>\n",
       "</table>\n",
       "</div>"
      ],
      "text/plain": [
       "                          STREETNAMES   PRICES  \\\n",
       "0                           VALK 2227   € 95,-   \n",
       "1   DJA / Daniel Jos Jittastraat 1280  € 345,-   \n",
       "2               EEA / Europalaan 1286  € 355,-   \n",
       "3  JAR2 / Jan van Riebeeckstraat 2432  € 410,-   \n",
       "\n",
       "                                               links  \n",
       "0  https://www.kamerbemiddelingtilburg.nl//studen...  \n",
       "1  https://www.kamerbemiddelingtilburg.nl//studen...  \n",
       "2  https://www.kamerbemiddelingtilburg.nl//studen...  \n",
       "3  https://www.kamerbemiddelingtilburg.nl//studen...  "
      ]
     },
     "execution_count": 15,
     "metadata": {},
     "output_type": "execute_result"
    }
   ],
   "source": [
    "import pandas as pd\n",
    "df = pd.DataFrame(firstlist, columns =['STREETNAMES', 'PRICES', 'links']) \n",
    "df"
   ]
  },
  {
   "cell_type": "code",
   "execution_count": null,
   "id": "d1b26ac4-18ac-4aaf-98bf-d5f655a83d1e",
   "metadata": {},
   "outputs": [],
   "source": []
  },
  {
   "cell_type": "code",
   "execution_count": null,
   "id": "259f0fbb-3c58-471e-a6c2-c6a72e16ed2c",
   "metadata": {},
   "outputs": [],
   "source": []
  }
 ],
 "metadata": {
  "kernelspec": {
   "display_name": "Python 3 (ipykernel)",
   "language": "python",
   "name": "python3"
  },
  "language_info": {
   "codemirror_mode": {
    "name": "ipython",
    "version": 3
   },
   "file_extension": ".py",
   "mimetype": "text/x-python",
   "name": "python",
   "nbconvert_exporter": "python",
   "pygments_lexer": "ipython3",
   "version": "3.9.7"
  }
 },
 "nbformat": 4,
 "nbformat_minor": 5
}
